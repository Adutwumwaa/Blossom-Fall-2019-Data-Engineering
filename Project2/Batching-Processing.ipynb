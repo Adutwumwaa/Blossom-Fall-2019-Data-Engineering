{
 "cells": [
  {
   "cell_type": "code",
   "execution_count": 7,
   "metadata": {},
   "outputs": [],
   "source": [
    "import pyspark"
   ]
  },
  {
   "cell_type": "code",
   "execution_count": 8,
   "metadata": {},
   "outputs": [],
   "source": [
    "from pyspark.sql import SparkSession\n",
    "from pyspark.ml.feature import NGram, Tokenizer\n",
    "import pyspark.sql.functions as F"
   ]
  },
  {
   "cell_type": "code",
   "execution_count": 9,
   "metadata": {},
   "outputs": [],
   "source": [
    "import boto3"
   ]
  },
  {
   "cell_type": "code",
   "execution_count": 10,
   "metadata": {},
   "outputs": [],
   "source": [
    "s3_client=boto3.client('s3',region_name='eu-west-1')"
   ]
  },
  {
   "cell_type": "code",
   "execution_count": 11,
   "metadata": {},
   "outputs": [],
   "source": [
    "s3_client.download_file('blossom-data-engs','all-us-stocks-tickers-company-info-logos.zip','all-us-stocks-tickers-company-info-logos.zip')"
   ]
  },
  {
   "cell_type": "code",
   "execution_count": 12,
   "metadata": {},
   "outputs": [],
   "source": [
    "s3_client.download_file('blossom-data-engs','data-scientist-job-market-in-the-us.zip','data-scientist-job-market-in-the-us.zip')"
   ]
  },
  {
   "cell_type": "code",
   "execution_count": 13,
   "metadata": {},
   "outputs": [],
   "source": [
    "#Create spar session\n",
    "spark = SparkSession.builder.getOrCreate()"
   ]
  },
  {
   "cell_type": "code",
   "execution_count": 14,
   "metadata": {},
   "outputs": [],
   "source": [
    "companies = spark.read.csv(\"companies.csv\", header = True, inferSchema = True,escape='\"', multiLine=True)"
   ]
  },
  {
   "cell_type": "code",
   "execution_count": 15,
   "metadata": {},
   "outputs": [],
   "source": [
    "alldata = spark.read.csv(\"alldata.csv\", header = True, inferSchema = True, escape='\"', multiLine=True)"
   ]
  },
  {
   "cell_type": "code",
   "execution_count": 16,
   "metadata": {},
   "outputs": [],
   "source": [
    "#joining 2 dataframes  (ta.join(tb, ta.description==tb.description)) or (ta.join(tb,ta['column']==tb[column]))\n",
    "df_1 = companies.join(alldata, companies.description== alldata.description)"
   ]
  },
  {
   "cell_type": "code",
   "execution_count": 17,
   "metadata": {},
   "outputs": [],
   "source": [
    "#filter out null rows of the description column in companies\n",
    "companies = companies.filter(companies.description.isNotNull())"
   ]
  },
  {
   "cell_type": "code",
   "execution_count": 18,
   "metadata": {},
   "outputs": [],
   "source": [
    "#filter out null rows of the description column in alldata\n",
    "alldata = alldata.filter(alldata.description.isNotNull())\n"
   ]
  },
  {
   "cell_type": "code",
   "execution_count": 19,
   "metadata": {},
   "outputs": [],
   "source": [
    "def method(comp, n):\n",
    "    tokens = Tokenizer(inputCol='description', outputCol='tokens')\n",
    "    companies = tokens.transform(comp)\n",
    "    ngram = NGram(n=n, inputCol=\"tokens\", outputCol=\"Ngram\")\n",
    "    companies = ngram.transform(companies)\n",
    "    return companies"
   ]
  },
  {
   "cell_type": "code",
   "execution_count": 20,
   "metadata": {},
   "outputs": [
    {
     "data": {
      "text/plain": [
       "DataFrame[ticker: string, company name: string, short name: string, industry: string, description: string, website: string, logo: string, ceo: string, exchange: string, market cap: decimal(12,0), sector: string, tag 1: string, tag 2: string, tag 3: string, tokens: array<string>, Ngram: array<string>]"
      ]
     },
     "execution_count": 20,
     "metadata": {},
     "output_type": "execute_result"
    }
   ],
   "source": [
    "#Generating unigram from companies(description)\n",
    "method(companies, 1)\n"
   ]
  },
  {
   "cell_type": "code",
   "execution_count": 21,
   "metadata": {},
   "outputs": [],
   "source": [
    "#Generating bigrams from companies(description)\n",
    "companies_1 = method(companies, 2)"
   ]
  },
  {
   "cell_type": "code",
   "execution_count": 38,
   "metadata": {},
   "outputs": [],
   "source": [
    "def method(comp, n):\n",
    "    tokens = Tokenizer(inputCol='position', outputCol='tokens')\n",
    "    alldata = tokens.transform(comp)\n",
    "    ngram = NGram(n=n, inputCol=\"tokens\", outputCol=\"Ngram\")\n",
    "    alldata = ngram.transform(alldata)\n",
    "    return alldata"
   ]
  },
  {
   "cell_type": "code",
   "execution_count": 39,
   "metadata": {},
   "outputs": [
    {
     "data": {
      "text/plain": [
       "DataFrame[position: string, company: string, description: string, reviews: int, location: string, tokens: array<string>, Ngram: array<string>]"
      ]
     },
     "execution_count": 39,
     "metadata": {},
     "output_type": "execute_result"
    }
   ],
   "source": [
    "#Generating unigram from alldata\n",
    "method(alldata, 1)"
   ]
  },
  {
   "cell_type": "code",
   "execution_count": 51,
   "metadata": {},
   "outputs": [],
   "source": [
    "#Generating bigramm from alldata\n",
    "alldata_1 = method(alldata, 2)"
   ]
  },
  {
   "cell_type": "code",
   "execution_count": 52,
   "metadata": {},
   "outputs": [
    {
     "data": {
      "text/plain": [
       "[Row(Ngram=['agilent technologies', 'technologies inc', 'inc is', 'is engaged', 'engaged in', 'in life', 'life sciences,', 'sciences, diagnostics', 'diagnostics and', 'and applied', 'applied chemical', 'chemical markets.', 'markets. the', 'the company', 'company provides', 'provides application', 'application focused', 'focused solutions', 'solutions that', 'that include', 'include instruments,', 'instruments, software,', 'software, services', 'services and', 'and consumables', 'consumables for', 'for the', 'the entire', 'entire laboratory', 'laboratory workflow.'])]"
      ]
     },
     "execution_count": 52,
     "metadata": {},
     "output_type": "execute_result"
    }
   ],
   "source": [
    "companies_1.select('Ngram').limit(1).take(1)"
   ]
  },
  {
   "cell_type": "code",
   "execution_count": 53,
   "metadata": {},
   "outputs": [],
   "source": [
    "newdf = companies_1.select(['Ngram' , 'industry']).select('industry' , F.explode('Ngram').alias('Ngram')).groupby(['Ngram' , 'industry']).count()"
   ]
  },
  {
   "cell_type": "code",
   "execution_count": 54,
   "metadata": {},
   "outputs": [
    {
     "name": "stdout",
     "output_type": "stream",
     "text": [
      "+--------------------+--------------------+---------+\n",
      "|               Ngram|            industry|frequency|\n",
      "+--------------------+--------------------+---------+\n",
      "|    washington, d.c.|            Airlines|        1|\n",
      "|    provider serving|Retail - Apparel ...|        1|\n",
      "|plasma-based prod...|       Biotechnology|        1|\n",
      "|   asbury automotive|               Autos|        1|\n",
      "|interception, geo...|Communication Equ...|        1|\n",
      "|         markets. it|Engineering & Con...|        1|\n",
      "|             for the|               REITs|        4|\n",
      "|               and a|Utilities - Regul...|        1|\n",
      "|            the usa,|           Insurance|        1|\n",
      "|       canadian gold|     Metals & Mining|        1|\n",
      "|      namely aethlon|   Computer Hardware|        1|\n",
      "|         provider of| Industrial Products|       11|\n",
      "|      utilities, and|     Credit Services|        2|\n",
      "|      for automotive|Homebuilding & Co...|        1|\n",
      "| wireless networking|Communication Equ...|        1|\n",
      "|           arthur j.| Brokers & Exchanges|        1|\n",
      "|         and branded|  Drug Manufacturers|        3|\n",
      "|         its revenue|               REITs|        6|\n",
      "|        segments are|     Medical Devices|        1|\n",
      "|     company through|            Airlines|        2|\n",
      "+--------------------+--------------------+---------+\n",
      "only showing top 20 rows\n",
      "\n"
     ]
    }
   ],
   "source": [
    "newdf.withColumnRenamed('count', 'frequency').show()"
   ]
  },
  {
   "cell_type": "code",
   "execution_count": 91,
   "metadata": {},
   "outputs": [],
   "source": [
    "alldata_1 = alldata_1\\\n",
    "                .withColumn('city', F.split(alldata_1['location'], ',')[0])\\\n",
    "                .withColumn('state', F.split(alldata_1['location'], ',')[1])\n"
   ]
  },
  {
   "cell_type": "code",
   "execution_count": 92,
   "metadata": {},
   "outputs": [],
   "source": [
    "newdf_1 = alldata_1.select(['Ngram' , 'city']).select('city' , F.explode('Ngram').alias('Ngram')).groupby(['Ngram' , 'city']).count()"
   ]
  },
  {
   "cell_type": "code",
   "execution_count": 93,
   "metadata": {},
   "outputs": [
    {
     "name": "stdout",
     "output_type": "stream",
     "text": [
      "+--------------------+-------+---------+\n",
      "|               Ngram|   city|frequency|\n",
      "+--------------------+-------+---------+\n",
      "|environmental sci...|Atlanta|        3|\n",
      "| language processing|Atlanta|        2|\n",
      "|        / artificial|Atlanta|        1|\n",
      "|               - c++| Austin|        1|\n",
      "|       quality staff| Austin|        1|\n",
      "|    senior director,| Austin|        1|\n",
      "| doctools architect,| Austin|        1|\n",
      "|    project engineer|Boulder|       11|\n",
      "|       lead software|Boulder|        1|\n",
      "|   engineer (664143)|Boulder|        1|\n",
      "|        & engagement| Boston|        1|\n",
      "|scientist, transl...| Boston|        1|\n",
      "| development manager| Boston|        3|\n",
      "|   python experience| Boston|        1|\n",
      "|            phd data| Boston|        1|\n",
      "|    and quantitative|Chicago|        2|\n",
      "|          us cities)|Chicago|        1|\n",
      "|          central or|Chicago|        1|\n",
      "|  senior consultant,|Chicago|        1|\n",
      "|     biologics core,|Chicago|        1|\n",
      "+--------------------+-------+---------+\n",
      "only showing top 20 rows\n",
      "\n"
     ]
    }
   ],
   "source": [
    "newdf_2 =newdf_1.withColumnRenamed('count', 'frequency').show()"
   ]
  },
  {
   "cell_type": "code",
   "execution_count": 112,
   "metadata": {},
   "outputs": [],
   "source": [
    "import numpy as np\n",
    "import pandas as pd\n",
    "import matplotlib.pyplot as plt"
   ]
  },
  {
   "cell_type": "code",
   "execution_count": 4,
   "metadata": {},
   "outputs": [
    {
     "name": "stdout",
     "output_type": "stream",
     "text": [
      "Requirement already satisfied: seaborn in c:\\users\\user\\desktop\\blossom\\env\\lib\\site-packages (0.9.0)\n",
      "Requirement already satisfied: matplotlib>=1.4.3 in c:\\users\\user\\desktop\\blossom\\env\\lib\\site-packages (from seaborn) (3.1.1)\n",
      "Requirement already satisfied: scipy>=0.14.0 in c:\\users\\user\\desktop\\blossom\\env\\lib\\site-packages (from seaborn) (1.3.1)\n",
      "Requirement already satisfied: numpy>=1.9.3 in c:\\users\\user\\desktop\\blossom\\env\\lib\\site-packages (from seaborn) (1.17.2)\n",
      "Requirement already satisfied: pandas>=0.15.2 in c:\\users\\user\\desktop\\blossom\\env\\lib\\site-packages (from seaborn) (0.25.1)\n",
      "Requirement already satisfied: kiwisolver>=1.0.1 in c:\\users\\user\\desktop\\blossom\\env\\lib\\site-packages (from matplotlib>=1.4.3->seaborn) (1.1.0)\n",
      "Requirement already satisfied: pyparsing!=2.0.4,!=2.1.2,!=2.1.6,>=2.0.1 in c:\\users\\user\\desktop\\blossom\\env\\lib\\site-packages (from matplotlib>=1.4.3->seaborn) (2.4.2)\n",
      "Requirement already satisfied: python-dateutil>=2.1 in c:\\users\\user\\desktop\\blossom\\env\\lib\\site-packages (from matplotlib>=1.4.3->seaborn) (2.8.0)\n",
      "Requirement already satisfied: cycler>=0.10 in c:\\users\\user\\desktop\\blossom\\env\\lib\\site-packages (from matplotlib>=1.4.3->seaborn) (0.10.0)\n",
      "Requirement already satisfied: pytz>=2017.2 in c:\\users\\user\\desktop\\blossom\\env\\lib\\site-packages (from pandas>=0.15.2->seaborn) (2019.2)\n",
      "Requirement already satisfied: setuptools in c:\\users\\user\\desktop\\blossom\\env\\lib\\site-packages (from kiwisolver>=1.0.1->matplotlib>=1.4.3->seaborn) (40.8.0)\n",
      "Requirement already satisfied: six>=1.5 in c:\\users\\user\\desktop\\blossom\\env\\lib\\site-packages (from python-dateutil>=2.1->matplotlib>=1.4.3->seaborn) (1.12.0)\n"
     ]
    },
    {
     "name": "stderr",
     "output_type": "stream",
     "text": [
      "WARNING: You are using pip version 19.2.3, however version 19.3 is available.\n",
      "You should consider upgrading via the 'python -m pip install --upgrade pip' command.\n"
     ]
    }
   ],
   "source": [
    "!pip install seaborn"
   ]
  },
  {
   "cell_type": "code",
   "execution_count": 94,
   "metadata": {},
   "outputs": [],
   "source": [
    "import pandas as pd\n"
   ]
  },
  {
   "cell_type": "code",
   "execution_count": 99,
   "metadata": {},
   "outputs": [],
   "source": [
    "df = newdf_1.toPandas()"
   ]
  },
  {
   "cell_type": "code",
   "execution_count": 100,
   "metadata": {},
   "outputs": [
    {
     "data": {
      "text/html": [
       "<div>\n",
       "<style scoped>\n",
       "    .dataframe tbody tr th:only-of-type {\n",
       "        vertical-align: middle;\n",
       "    }\n",
       "\n",
       "    .dataframe tbody tr th {\n",
       "        vertical-align: top;\n",
       "    }\n",
       "\n",
       "    .dataframe thead th {\n",
       "        text-align: right;\n",
       "    }\n",
       "</style>\n",
       "<table border=\"1\" class=\"dataframe\">\n",
       "  <thead>\n",
       "    <tr style=\"text-align: right;\">\n",
       "      <th></th>\n",
       "      <th>Ngram</th>\n",
       "      <th>city</th>\n",
       "      <th>count</th>\n",
       "    </tr>\n",
       "  </thead>\n",
       "  <tbody>\n",
       "    <tr>\n",
       "      <td>0</td>\n",
       "      <td>environmental scientist</td>\n",
       "      <td>Atlanta</td>\n",
       "      <td>3</td>\n",
       "    </tr>\n",
       "    <tr>\n",
       "      <td>1</td>\n",
       "      <td>language processing</td>\n",
       "      <td>Atlanta</td>\n",
       "      <td>2</td>\n",
       "    </tr>\n",
       "    <tr>\n",
       "      <td>2</td>\n",
       "      <td>/ artificial</td>\n",
       "      <td>Atlanta</td>\n",
       "      <td>1</td>\n",
       "    </tr>\n",
       "    <tr>\n",
       "      <td>3</td>\n",
       "      <td>- c++</td>\n",
       "      <td>Austin</td>\n",
       "      <td>1</td>\n",
       "    </tr>\n",
       "    <tr>\n",
       "      <td>4</td>\n",
       "      <td>quality staff</td>\n",
       "      <td>Austin</td>\n",
       "      <td>1</td>\n",
       "    </tr>\n",
       "    <tr>\n",
       "      <td>...</td>\n",
       "      <td>...</td>\n",
       "      <td>...</td>\n",
       "      <td>...</td>\n",
       "    </tr>\n",
       "    <tr>\n",
       "      <td>14453</td>\n",
       "      <td>i/ii, aav</td>\n",
       "      <td>Richmond</td>\n",
       "      <td>1</td>\n",
       "    </tr>\n",
       "    <tr>\n",
       "      <td>14454</td>\n",
       "      <td>liaison -</td>\n",
       "      <td>San Francisco</td>\n",
       "      <td>1</td>\n",
       "    </tr>\n",
       "    <tr>\n",
       "      <td>14455</td>\n",
       "      <td>machine learning,</td>\n",
       "      <td>Sunnyvale</td>\n",
       "      <td>2</td>\n",
       "    </tr>\n",
       "    <tr>\n",
       "      <td>14456</td>\n",
       "      <td>staff data</td>\n",
       "      <td>Sunnyvale</td>\n",
       "      <td>4</td>\n",
       "    </tr>\n",
       "    <tr>\n",
       "      <td>14457</td>\n",
       "      <td>salesforce/java engineer</td>\n",
       "      <td>Sunnyvale</td>\n",
       "      <td>1</td>\n",
       "    </tr>\n",
       "  </tbody>\n",
       "</table>\n",
       "<p>14458 rows × 3 columns</p>\n",
       "</div>"
      ],
      "text/plain": [
       "                          Ngram           city  count\n",
       "0       environmental scientist        Atlanta      3\n",
       "1           language processing        Atlanta      2\n",
       "2                  / artificial        Atlanta      1\n",
       "3                         - c++         Austin      1\n",
       "4                 quality staff         Austin      1\n",
       "...                         ...            ...    ...\n",
       "14453                 i/ii, aav       Richmond      1\n",
       "14454                 liaison -  San Francisco      1\n",
       "14455         machine learning,      Sunnyvale      2\n",
       "14456                staff data      Sunnyvale      4\n",
       "14457  salesforce/java engineer      Sunnyvale      1\n",
       "\n",
       "[14458 rows x 3 columns]"
      ]
     },
     "execution_count": 100,
     "metadata": {},
     "output_type": "execute_result"
    }
   ],
   "source": [
    "df"
   ]
  },
  {
   "cell_type": "code",
   "execution_count": 108,
   "metadata": {},
   "outputs": [],
   "source": [
    " df_1 = df.groupby('Ngram').get_group('data scientist')"
   ]
  },
  {
   "cell_type": "code",
   "execution_count": 109,
   "metadata": {},
   "outputs": [
    {
     "data": {
      "text/html": [
       "<div>\n",
       "<style scoped>\n",
       "    .dataframe tbody tr th:only-of-type {\n",
       "        vertical-align: middle;\n",
       "    }\n",
       "\n",
       "    .dataframe tbody tr th {\n",
       "        vertical-align: top;\n",
       "    }\n",
       "\n",
       "    .dataframe thead th {\n",
       "        text-align: right;\n",
       "    }\n",
       "</style>\n",
       "<table border=\"1\" class=\"dataframe\">\n",
       "  <thead>\n",
       "    <tr style=\"text-align: right;\">\n",
       "      <th></th>\n",
       "      <th>Ngram</th>\n",
       "      <th>city</th>\n",
       "      <th>count</th>\n",
       "    </tr>\n",
       "  </thead>\n",
       "  <tbody>\n",
       "    <tr>\n",
       "      <td>323</td>\n",
       "      <td>data scientist</td>\n",
       "      <td>San Carlos</td>\n",
       "      <td>6</td>\n",
       "    </tr>\n",
       "    <tr>\n",
       "      <td>692</td>\n",
       "      <td>data scientist</td>\n",
       "      <td>South San Francisco</td>\n",
       "      <td>13</td>\n",
       "    </tr>\n",
       "    <tr>\n",
       "      <td>1178</td>\n",
       "      <td>data scientist</td>\n",
       "      <td>Secaucus</td>\n",
       "      <td>1</td>\n",
       "    </tr>\n",
       "    <tr>\n",
       "      <td>1201</td>\n",
       "      <td>data scientist</td>\n",
       "      <td>San Ramon</td>\n",
       "      <td>2</td>\n",
       "    </tr>\n",
       "    <tr>\n",
       "      <td>1401</td>\n",
       "      <td>data scientist</td>\n",
       "      <td>Rahway</td>\n",
       "      <td>1</td>\n",
       "    </tr>\n",
       "    <tr>\n",
       "      <td>1463</td>\n",
       "      <td>data scientist</td>\n",
       "      <td>Washington</td>\n",
       "      <td>56</td>\n",
       "    </tr>\n",
       "    <tr>\n",
       "      <td>1598</td>\n",
       "      <td>data scientist</td>\n",
       "      <td>Chicago</td>\n",
       "      <td>80</td>\n",
       "    </tr>\n",
       "    <tr>\n",
       "      <td>2436</td>\n",
       "      <td>data scientist</td>\n",
       "      <td>Port Washington</td>\n",
       "      <td>1</td>\n",
       "    </tr>\n",
       "    <tr>\n",
       "      <td>2671</td>\n",
       "      <td>data scientist</td>\n",
       "      <td>Richmond</td>\n",
       "      <td>2</td>\n",
       "    </tr>\n",
       "    <tr>\n",
       "      <td>2702</td>\n",
       "      <td>data scientist</td>\n",
       "      <td>Jersey City</td>\n",
       "      <td>9</td>\n",
       "    </tr>\n",
       "    <tr>\n",
       "      <td>3023</td>\n",
       "      <td>data scientist</td>\n",
       "      <td>Short Hills</td>\n",
       "      <td>1</td>\n",
       "    </tr>\n",
       "    <tr>\n",
       "      <td>3131</td>\n",
       "      <td>data scientist</td>\n",
       "      <td>San Francisco</td>\n",
       "      <td>170</td>\n",
       "    </tr>\n",
       "    <tr>\n",
       "      <td>3823</td>\n",
       "      <td>data scientist</td>\n",
       "      <td>Oakland</td>\n",
       "      <td>8</td>\n",
       "    </tr>\n",
       "    <tr>\n",
       "      <td>3839</td>\n",
       "      <td>data scientist</td>\n",
       "      <td>Boulder</td>\n",
       "      <td>5</td>\n",
       "    </tr>\n",
       "    <tr>\n",
       "      <td>3872</td>\n",
       "      <td>data scientist</td>\n",
       "      <td>Fort Lee</td>\n",
       "      <td>1</td>\n",
       "    </tr>\n",
       "    <tr>\n",
       "      <td>3909</td>\n",
       "      <td>data scientist</td>\n",
       "      <td>Austin</td>\n",
       "      <td>29</td>\n",
       "    </tr>\n",
       "    <tr>\n",
       "      <td>4729</td>\n",
       "      <td>data scientist</td>\n",
       "      <td>Manhattan</td>\n",
       "      <td>2</td>\n",
       "    </tr>\n",
       "    <tr>\n",
       "      <td>4892</td>\n",
       "      <td>data scientist</td>\n",
       "      <td>San Francisco Bay Area</td>\n",
       "      <td>5</td>\n",
       "    </tr>\n",
       "    <tr>\n",
       "      <td>5251</td>\n",
       "      <td>data scientist</td>\n",
       "      <td>Sunnyvale</td>\n",
       "      <td>22</td>\n",
       "    </tr>\n",
       "    <tr>\n",
       "      <td>5325</td>\n",
       "      <td>data scientist</td>\n",
       "      <td>Foster City</td>\n",
       "      <td>5</td>\n",
       "    </tr>\n",
       "    <tr>\n",
       "      <td>5956</td>\n",
       "      <td>data scientist</td>\n",
       "      <td>Union</td>\n",
       "      <td>3</td>\n",
       "    </tr>\n",
       "    <tr>\n",
       "      <td>6133</td>\n",
       "      <td>data scientist</td>\n",
       "      <td>Menlo Park</td>\n",
       "      <td>3</td>\n",
       "    </tr>\n",
       "    <tr>\n",
       "      <td>6346</td>\n",
       "      <td>data scientist</td>\n",
       "      <td>Woodcliff Lake</td>\n",
       "      <td>1</td>\n",
       "    </tr>\n",
       "    <tr>\n",
       "      <td>6538</td>\n",
       "      <td>data scientist</td>\n",
       "      <td>Boston</td>\n",
       "      <td>86</td>\n",
       "    </tr>\n",
       "    <tr>\n",
       "      <td>7505</td>\n",
       "      <td>data scientist</td>\n",
       "      <td>Redwood City</td>\n",
       "      <td>20</td>\n",
       "    </tr>\n",
       "    <tr>\n",
       "      <td>7831</td>\n",
       "      <td>data scientist</td>\n",
       "      <td>Roseland</td>\n",
       "      <td>1</td>\n",
       "    </tr>\n",
       "    <tr>\n",
       "      <td>8239</td>\n",
       "      <td>data scientist</td>\n",
       "      <td>New York</td>\n",
       "      <td>243</td>\n",
       "    </tr>\n",
       "    <tr>\n",
       "      <td>8920</td>\n",
       "      <td>data scientist</td>\n",
       "      <td>Los Angeles</td>\n",
       "      <td>31</td>\n",
       "    </tr>\n",
       "    <tr>\n",
       "      <td>8967</td>\n",
       "      <td>data scientist</td>\n",
       "      <td>Walnut Creek</td>\n",
       "      <td>1</td>\n",
       "    </tr>\n",
       "    <tr>\n",
       "      <td>9109</td>\n",
       "      <td>data scientist</td>\n",
       "      <td>Union City</td>\n",
       "      <td>1</td>\n",
       "    </tr>\n",
       "    <tr>\n",
       "      <td>9159</td>\n",
       "      <td>data scientist</td>\n",
       "      <td>Seattle</td>\n",
       "      <td>56</td>\n",
       "    </tr>\n",
       "    <tr>\n",
       "      <td>9345</td>\n",
       "      <td>data scientist</td>\n",
       "      <td>Round Rock</td>\n",
       "      <td>2</td>\n",
       "    </tr>\n",
       "    <tr>\n",
       "      <td>9681</td>\n",
       "      <td>data scientist</td>\n",
       "      <td>Redmond</td>\n",
       "      <td>15</td>\n",
       "    </tr>\n",
       "    <tr>\n",
       "      <td>10055</td>\n",
       "      <td>data scientist</td>\n",
       "      <td>San Mateo</td>\n",
       "      <td>18</td>\n",
       "    </tr>\n",
       "    <tr>\n",
       "      <td>10474</td>\n",
       "      <td>data scientist</td>\n",
       "      <td>Emeryville</td>\n",
       "      <td>5</td>\n",
       "    </tr>\n",
       "    <tr>\n",
       "      <td>10478</td>\n",
       "      <td>data scientist</td>\n",
       "      <td>San Bruno</td>\n",
       "      <td>4</td>\n",
       "    </tr>\n",
       "    <tr>\n",
       "      <td>10794</td>\n",
       "      <td>data scientist</td>\n",
       "      <td>San Diego</td>\n",
       "      <td>29</td>\n",
       "    </tr>\n",
       "    <tr>\n",
       "      <td>11192</td>\n",
       "      <td>data scientist</td>\n",
       "      <td>Cambridge</td>\n",
       "      <td>24</td>\n",
       "    </tr>\n",
       "    <tr>\n",
       "      <td>11359</td>\n",
       "      <td>data scientist</td>\n",
       "      <td>Rutherford</td>\n",
       "      <td>1</td>\n",
       "    </tr>\n",
       "    <tr>\n",
       "      <td>11454</td>\n",
       "      <td>data scientist</td>\n",
       "      <td>Brooklyn</td>\n",
       "      <td>1</td>\n",
       "    </tr>\n",
       "    <tr>\n",
       "      <td>11925</td>\n",
       "      <td>data scientist</td>\n",
       "      <td>Murray Hill</td>\n",
       "      <td>2</td>\n",
       "    </tr>\n",
       "    <tr>\n",
       "      <td>12210</td>\n",
       "      <td>data scientist</td>\n",
       "      <td>Hoboken</td>\n",
       "      <td>1</td>\n",
       "    </tr>\n",
       "    <tr>\n",
       "      <td>12338</td>\n",
       "      <td>data scientist</td>\n",
       "      <td>Mountain View</td>\n",
       "      <td>31</td>\n",
       "    </tr>\n",
       "    <tr>\n",
       "      <td>12481</td>\n",
       "      <td>data scientist</td>\n",
       "      <td>Parsippany</td>\n",
       "      <td>1</td>\n",
       "    </tr>\n",
       "    <tr>\n",
       "      <td>12707</td>\n",
       "      <td>data scientist</td>\n",
       "      <td>Hayward</td>\n",
       "      <td>2</td>\n",
       "    </tr>\n",
       "    <tr>\n",
       "      <td>13306</td>\n",
       "      <td>data scientist</td>\n",
       "      <td>Whippany</td>\n",
       "      <td>1</td>\n",
       "    </tr>\n",
       "    <tr>\n",
       "      <td>13697</td>\n",
       "      <td>data scientist</td>\n",
       "      <td>Atlanta</td>\n",
       "      <td>50</td>\n",
       "    </tr>\n",
       "    <tr>\n",
       "      <td>13889</td>\n",
       "      <td>data scientist</td>\n",
       "      <td>Troy Hills</td>\n",
       "      <td>1</td>\n",
       "    </tr>\n",
       "    <tr>\n",
       "      <td>13985</td>\n",
       "      <td>data scientist</td>\n",
       "      <td>Burlingame</td>\n",
       "      <td>2</td>\n",
       "    </tr>\n",
       "    <tr>\n",
       "      <td>14100</td>\n",
       "      <td>data scientist</td>\n",
       "      <td>Newark</td>\n",
       "      <td>3</td>\n",
       "    </tr>\n",
       "    <tr>\n",
       "      <td>14130</td>\n",
       "      <td>data scientist</td>\n",
       "      <td>Berkeley</td>\n",
       "      <td>4</td>\n",
       "    </tr>\n",
       "  </tbody>\n",
       "</table>\n",
       "</div>"
      ],
      "text/plain": [
       "                Ngram                    city  count\n",
       "323    data scientist              San Carlos      6\n",
       "692    data scientist     South San Francisco     13\n",
       "1178   data scientist                Secaucus      1\n",
       "1201   data scientist               San Ramon      2\n",
       "1401   data scientist                  Rahway      1\n",
       "1463   data scientist              Washington     56\n",
       "1598   data scientist                 Chicago     80\n",
       "2436   data scientist         Port Washington      1\n",
       "2671   data scientist                Richmond      2\n",
       "2702   data scientist             Jersey City      9\n",
       "3023   data scientist             Short Hills      1\n",
       "3131   data scientist           San Francisco    170\n",
       "3823   data scientist                 Oakland      8\n",
       "3839   data scientist                 Boulder      5\n",
       "3872   data scientist                Fort Lee      1\n",
       "3909   data scientist                  Austin     29\n",
       "4729   data scientist               Manhattan      2\n",
       "4892   data scientist  San Francisco Bay Area      5\n",
       "5251   data scientist               Sunnyvale     22\n",
       "5325   data scientist             Foster City      5\n",
       "5956   data scientist                   Union      3\n",
       "6133   data scientist              Menlo Park      3\n",
       "6346   data scientist          Woodcliff Lake      1\n",
       "6538   data scientist                  Boston     86\n",
       "7505   data scientist            Redwood City     20\n",
       "7831   data scientist                Roseland      1\n",
       "8239   data scientist                New York    243\n",
       "8920   data scientist             Los Angeles     31\n",
       "8967   data scientist            Walnut Creek      1\n",
       "9109   data scientist              Union City      1\n",
       "9159   data scientist                 Seattle     56\n",
       "9345   data scientist              Round Rock      2\n",
       "9681   data scientist                 Redmond     15\n",
       "10055  data scientist               San Mateo     18\n",
       "10474  data scientist              Emeryville      5\n",
       "10478  data scientist               San Bruno      4\n",
       "10794  data scientist               San Diego     29\n",
       "11192  data scientist               Cambridge     24\n",
       "11359  data scientist              Rutherford      1\n",
       "11454  data scientist                Brooklyn      1\n",
       "11925  data scientist             Murray Hill      2\n",
       "12210  data scientist                 Hoboken      1\n",
       "12338  data scientist           Mountain View     31\n",
       "12481  data scientist              Parsippany      1\n",
       "12707  data scientist                 Hayward      2\n",
       "13306  data scientist                Whippany      1\n",
       "13697  data scientist                 Atlanta     50\n",
       "13889  data scientist              Troy Hills      1\n",
       "13985  data scientist              Burlingame      2\n",
       "14100  data scientist                  Newark      3\n",
       "14130  data scientist                Berkeley      4"
      ]
     },
     "execution_count": 109,
     "metadata": {},
     "output_type": "execute_result"
    }
   ],
   "source": [
    "df_1"
   ]
  },
  {
   "cell_type": "code",
   "execution_count": 110,
   "metadata": {},
   "outputs": [],
   "source": [
    "Final = df_1[df_1['city'].isin(['New York', 'Atlanta']) ]"
   ]
  },
  {
   "cell_type": "code",
   "execution_count": 111,
   "metadata": {},
   "outputs": [
    {
     "data": {
      "text/html": [
       "<div>\n",
       "<style scoped>\n",
       "    .dataframe tbody tr th:only-of-type {\n",
       "        vertical-align: middle;\n",
       "    }\n",
       "\n",
       "    .dataframe tbody tr th {\n",
       "        vertical-align: top;\n",
       "    }\n",
       "\n",
       "    .dataframe thead th {\n",
       "        text-align: right;\n",
       "    }\n",
       "</style>\n",
       "<table border=\"1\" class=\"dataframe\">\n",
       "  <thead>\n",
       "    <tr style=\"text-align: right;\">\n",
       "      <th></th>\n",
       "      <th>Ngram</th>\n",
       "      <th>city</th>\n",
       "      <th>count</th>\n",
       "    </tr>\n",
       "  </thead>\n",
       "  <tbody>\n",
       "    <tr>\n",
       "      <td>8239</td>\n",
       "      <td>data scientist</td>\n",
       "      <td>New York</td>\n",
       "      <td>243</td>\n",
       "    </tr>\n",
       "    <tr>\n",
       "      <td>13697</td>\n",
       "      <td>data scientist</td>\n",
       "      <td>Atlanta</td>\n",
       "      <td>50</td>\n",
       "    </tr>\n",
       "  </tbody>\n",
       "</table>\n",
       "</div>"
      ],
      "text/plain": [
       "                Ngram      city  count\n",
       "8239   data scientist  New York    243\n",
       "13697  data scientist   Atlanta     50"
      ]
     },
     "execution_count": 111,
     "metadata": {},
     "output_type": "execute_result"
    }
   ],
   "source": [
    "Final"
   ]
  },
  {
   "cell_type": "code",
   "execution_count": 126,
   "metadata": {},
   "outputs": [
    {
     "data": {
      "text/plain": [
       "Text(0.5, 1.0, 'Data Science Jobs In Selected Cities ')"
      ]
     },
     "execution_count": 126,
     "metadata": {},
     "output_type": "execute_result"
    },
    {
     "data": {
      "image/png": "[encoded data removed]",
      "text/plain": [
       "<Figure size 432x288 with 1 Axes>"
      ]
     },
     "metadata": {
      "needs_background": "light"
     },
     "output_type": "display_data"
    }
   ],
   "source": [
    "Final.plot.bar(x = 'city', y = 'count')\n",
    "plt.ylabel('Data science jobs')\n",
    "plt.title('Data Science Jobs In Selected Cities ')"
   ]
  },
  {
   "cell_type": "code",
   "execution_count": null,
   "metadata": {},
   "outputs": [],
   "source": []
  }
 ],
 "metadata": {
  "kernelspec": {
   "display_name": "Python 3",
   "language": "python",
   "name": "python3"
  },
  "language_info": {
   "codemirror_mode": {
    "name": "ipython",
    "version": 3
   },
   "file_extension": ".py",
   "mimetype": "text/x-python",
   "name": "python",
   "nbconvert_exporter": "python",
   "pygments_lexer": "ipython3",
   "version": "3.7.3"
  }
 },
 "nbformat": 4,
 "nbformat_minor": 2
}
