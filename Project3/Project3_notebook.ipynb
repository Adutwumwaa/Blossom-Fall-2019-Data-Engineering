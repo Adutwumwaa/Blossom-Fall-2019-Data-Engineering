{
 "cells": [
  {
   "cell_type": "code",
   "execution_count": 1,
   "metadata": {},
   "outputs": [],
   "source": [
    "import pyspark\n",
    "from pyspark.sql import SparkSession\n",
    "import pyspark.sql.functions as F\n",
    "from pyspark.ml.feature import NGram, Tokenizer"
   ]
  },
  {
   "cell_type": "code",
   "execution_count": 2,
   "metadata": {},
   "outputs": [],
   "source": [
    "spark = (\n",
    "    SparkSession.builder\n",
    "                .appName(\"Stack Overflow Data Wrangling\")\n",
    "                .config(\"spark.jars\", \"/home/adutwumwaah/Desktop/Blossom/jars/postgresql-42.2.8.jar\") \n",
    "                .getOrCreate()\n",
    ")\n",
    "\n"
   ]
  },
  {
   "cell_type": "markdown",
   "metadata": {},
   "source": [
    "Loading Dataset"
   ]
  },
  {
   "cell_type": "code",
   "execution_count": 3,
   "metadata": {},
   "outputs": [],
   "source": [
    "questions = spark.read.csv(\"questions.csv\", header = True, inferSchema = True,escape='\"', multiLine=True)\n",
    "answers = spark.read.csv(\"answers.csv\", header = True, inferSchema = True,escape='\"', multiLine=True)\n",
    "users = spark.read.csv(\"users.csv\", header = True, inferSchema = True,escape='\"', multiLine=True)"
   ]
  },
  {
   "cell_type": "markdown",
   "metadata": {},
   "source": [
    "Renaming columns"
   ]
  },
  {
   "cell_type": "code",
   "execution_count": 4,
   "metadata": {},
   "outputs": [],
   "source": [
    "questions = questions.withColumnRenamed('id','qid')\n",
    "questions = questions.withColumnRenamed('body', 'qbody')\n",
    "questions = questions.withColumnRenamed('score', 'qscore')\n",
    "questions = questions.withColumnRenamed('comment_count', 'qcomment_count')\n",
    "questions = questions.withColumnRenamed('created_at', 'qcreated_at')\n",
    "answers = answers.withColumnRenamed('created_at', 'acreated_at')\n",
    "answers = answers.withColumnRenamed('id', 'aid')\n",
    "answers = answers.withColumnRenamed('user_id', 'auser_aid')"
   ]
  },
  {
   "cell_type": "code",
   "execution_count": 5,
   "metadata": {},
   "outputs": [
    {
     "data": {
      "text/plain": [
       "['qid',\n",
       " 'user_id',\n",
       " 'title',\n",
       " 'qbody',\n",
       " 'accepted_answer_id',\n",
       " 'qscore',\n",
       " 'view_count',\n",
       " 'qcomment_count',\n",
       " 'qcreated_at']"
      ]
     },
     "execution_count": 5,
     "metadata": {},
     "output_type": "execute_result"
    }
   ],
   "source": [
    "questions.columns"
   ]
  },
  {
   "cell_type": "code",
   "execution_count": 6,
   "metadata": {},
   "outputs": [
    {
     "data": {
      "text/plain": [
       "['aid',\n",
       " 'auser_aid',\n",
       " 'question_id',\n",
       " 'body',\n",
       " 'score',\n",
       " 'comment_count',\n",
       " 'acreated_at']"
      ]
     },
     "execution_count": 6,
     "metadata": {},
     "output_type": "execute_result"
    }
   ],
   "source": [
    "answers.columns"
   ]
  },
  {
   "cell_type": "code",
   "execution_count": 7,
   "metadata": {},
   "outputs": [
    {
     "data": {
      "text/plain": [
       "['id',\n",
       " 'display_name',\n",
       " 'reputation',\n",
       " 'website_url',\n",
       " 'location',\n",
       " 'about_me',\n",
       " 'views',\n",
       " 'up_votes',\n",
       " 'down_votes',\n",
       " 'image_url',\n",
       " 'created_at',\n",
       " 'updated_at']"
      ]
     },
     "execution_count": 7,
     "metadata": {},
     "output_type": "execute_result"
    }
   ],
   "source": [
    "users.columns"
   ]
  },
  {
   "cell_type": "markdown",
   "metadata": {},
   "source": [
    "#Extract the country and city into new columns"
   ]
  },
  {
   "cell_type": "code",
   "execution_count": 8,
   "metadata": {},
   "outputs": [],
   "source": [
    "users = users\\\n",
    "                .withColumn('city', F.split(users['location'], ',')[0])\\\n",
    "                .withColumn('country', F.split(users['location'],',')[2])\n"
   ]
  },
  {
   "cell_type": "markdown",
   "metadata": {},
   "source": [
    "Selecting users from only one country(India)"
   ]
  },
  {
   "cell_type": "code",
   "execution_count": 9,
   "metadata": {},
   "outputs": [],
   "source": [
    "users.registerTempTable('users')\n",
    "users = spark.sql(\"select * from users where country like '%India%' \")"
   ]
  },
  {
   "cell_type": "code",
   "execution_count": 10,
   "metadata": {},
   "outputs": [
    {
     "data": {
      "text/plain": [
       "14923"
      ]
     },
     "execution_count": 10,
     "metadata": {},
     "output_type": "execute_result"
    }
   ],
   "source": [
    "users.count()"
   ]
  },
  {
   "cell_type": "code",
   "execution_count": 11,
   "metadata": {},
   "outputs": [],
   "source": [
    "#joining the resulting users df with questions \n",
    "\n",
    "df = users.join(questions, users.id == questions.user_id)"
   ]
  },
  {
   "cell_type": "code",
   "execution_count": 12,
   "metadata": {},
   "outputs": [],
   "source": [
    "df_1 = df.filter(df['view_count'] > 19)"
   ]
  },
  {
   "cell_type": "code",
   "execution_count": 13,
   "metadata": {},
   "outputs": [],
   "source": [
    "#Joining answers dataset\n",
    "df_2 = df_1.join(answers, df_1.id == answers.auser_aid)"
   ]
  },
  {
   "cell_type": "code",
   "execution_count": 14,
   "metadata": {},
   "outputs": [
    {
     "data": {
      "text/plain": [
       "['id',\n",
       " 'display_name',\n",
       " 'reputation',\n",
       " 'website_url',\n",
       " 'location',\n",
       " 'about_me',\n",
       " 'views',\n",
       " 'up_votes',\n",
       " 'down_votes',\n",
       " 'image_url',\n",
       " 'created_at',\n",
       " 'updated_at',\n",
       " 'city',\n",
       " 'country',\n",
       " 'qid',\n",
       " 'user_id',\n",
       " 'title',\n",
       " 'qbody',\n",
       " 'accepted_answer_id',\n",
       " 'qscore',\n",
       " 'view_count',\n",
       " 'qcomment_count',\n",
       " 'qcreated_at',\n",
       " 'aid',\n",
       " 'auser_aid',\n",
       " 'question_id',\n",
       " 'body',\n",
       " 'score',\n",
       " 'comment_count',\n",
       " 'acreated_at']"
      ]
     },
     "execution_count": 14,
     "metadata": {},
     "output_type": "execute_result"
    }
   ],
   "source": [
    "df_2.columns"
   ]
  },
  {
   "cell_type": "code",
   "execution_count": 15,
   "metadata": {},
   "outputs": [
    {
     "data": {
      "text/plain": [
       "[Row(updated_at=datetime.datetime(2019, 9, 28, 16, 55, 54)),\n",
       " Row(updated_at=datetime.datetime(2019, 9, 28, 16, 55, 54)),\n",
       " Row(updated_at=datetime.datetime(2019, 9, 28, 16, 55, 54)),\n",
       " Row(updated_at=datetime.datetime(2019, 9, 28, 16, 55, 54)),\n",
       " Row(updated_at=datetime.datetime(2019, 5, 15, 8, 0, 50)),\n",
       " Row(updated_at=datetime.datetime(2019, 10, 13, 6, 4, 6)),\n",
       " Row(updated_at=datetime.datetime(2019, 10, 13, 5, 15, 34)),\n",
       " Row(updated_at=datetime.datetime(2019, 10, 13, 5, 15, 34)),\n",
       " Row(updated_at=datetime.datetime(2019, 10, 13, 5, 15, 34)),\n",
       " Row(updated_at=datetime.datetime(2019, 10, 13, 5, 15, 34))]"
      ]
     },
     "execution_count": 15,
     "metadata": {},
     "output_type": "execute_result"
    }
   ],
   "source": [
    "df_2.select(\"updated_at\").take(10)"
   ]
  },
  {
   "cell_type": "code",
   "execution_count": 37,
   "metadata": {},
   "outputs": [],
   "source": [
    "df_2.write.format(\"jdbc\").options(\n",
    "    url='jdbc:postgresql://localhost/postgres',\n",
    "    driver='org.postgresql.Driver',\n",
    "    user='postgres',\n",
    "    password='devinvogue',\n",
    "    dbtable='stackoverflow_filtered.results').save(mode='append')\n"
   ]
  },
  {
   "cell_type": "code",
   "execution_count": null,
   "metadata": {},
   "outputs": [],
   "source": []
  },
  {
   "cell_type": "markdown",
   "metadata": {},
   "source": [
    " Section 3\n",
    " 8. Differences between View and Materialized View"
   ]
  },
  {
   "cell_type": "markdown",
   "metadata": {},
   "source": [
    "1. View is a virtual table that is created for display purposes and it is not stored on the disk whilst a materialized view is a physical copy of the base table created and stored on a disk.\n",
    "\n",
    "2. View is updated anytime the virtual table is viewd whilst the materilized view is updated manually.\n",
    "\n",
    "3. View has slow processing whilst materialized view has fast processing.\n"
   ]
  },
  {
   "cell_type": "code",
   "execution_count": null,
   "metadata": {},
   "outputs": [],
   "source": []
  }
 ],
 "metadata": {
  "kernelspec": {
   "display_name": "Python 3",
   "language": "python",
   "name": "python3"
  },
  "language_info": {
   "codemirror_mode": {
    "name": "ipython",
    "version": 3
   },
   "file_extension": ".py",
   "mimetype": "text/x-python",
   "name": "python",
   "nbconvert_exporter": "python",
   "pygments_lexer": "ipython3",
   "version": "3.7.3"
  }
 },
 "nbformat": 4,
 "nbformat_minor": 2
}
