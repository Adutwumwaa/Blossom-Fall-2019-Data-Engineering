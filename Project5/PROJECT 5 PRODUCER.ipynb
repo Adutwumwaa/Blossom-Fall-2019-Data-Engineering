{
 "cells": [
  {
   "cell_type": "code",
   "execution_count": 1,
   "metadata": {},
   "outputs": [],
   "source": [
    "import boto3\n",
    "import csv\n",
    "import json\n",
    "import time"
   ]
  },
  {
   "cell_type": "code",
   "execution_count": 2,
   "metadata": {},
   "outputs": [],
   "source": [
    "region = 'us-east-2'\n",
    "streamName = 'blossom-data-eng-emily'"
   ]
  },
  {
   "cell_type": "code",
   "execution_count": 3,
   "metadata": {},
   "outputs": [
    {
     "data": {
      "text/plain": [
       "{'StreamNames': ['blossom-data-eng-Priscilla',\n",
       "  'blossom-data-eng-clifford',\n",
       "  'blossom-data-eng-dennis',\n",
       "  'blossom-data-eng-emily',\n",
       "  'blossom-data-eng-giftysdovie',\n",
       "  'blossom-data-eng-jedidiah',\n",
       "  'blossom-data-eng-justice-akwensi',\n",
       "  'blossom-data-eng-michael_asante',\n",
       "  'blossom-data-eng-richmond',\n",
       "  'blossom-data-eng-username',\n",
       "  'blossom-eng-Priscilla',\n",
       "  'blossom-eng-juliuslotsu',\n",
       "  'blossom-eng-michaelasante',\n",
       "  'blossom-eng-omaj',\n",
       "  'kojo-kinesis-test',\n",
       "  'real_estate'],\n",
       " 'HasMoreStreams': False,\n",
       " 'ResponseMetadata': {'RequestId': 'd2423287-6e4a-d193-8415-b85e8df148d6',\n",
       "  'HTTPStatusCode': 200,\n",
       "  'HTTPHeaders': {'x-amzn-requestid': 'd2423287-6e4a-d193-8415-b85e8df148d6',\n",
       "   'x-amz-id-2': '8jhqIbCnElcs7XLwjWUL5GHdrnq+XMrmDifOtBtqlVHc6rLklvcdU7RUX+4IpBpJykw2n+WzZMSGscPiIxCXQdQKSYtSEuiw',\n",
       "   'date': 'Tue, 26 Nov 2019 20:18:33 GMT',\n",
       "   'content-type': 'application/x-amz-json-1.1',\n",
       "   'content-length': '463'},\n",
       "  'RetryAttempts': 0}}"
      ]
     },
     "execution_count": 3,
     "metadata": {},
     "output_type": "execute_result"
    }
   ],
   "source": [
    "#inititalized kinesis client\n",
    "kinesis = boto3.client('kinesis',region_name = 'us-east-2')\n",
    "\n",
    "#list all active streams\n",
    "kinesis.list_streams()"
   ]
  },
  {
   "cell_type": "code",
   "execution_count": 4,
   "metadata": {},
   "outputs": [
    {
     "data": {
      "text/plain": [
       "{'ShardId': 'shardId-000000000002',\n",
       " 'ParentShardId': 'shardId-000000000000',\n",
       " 'AdjacentParentShardId': 'shardId-000000000001',\n",
       " 'HashKeyRange': {'StartingHashKey': '0',\n",
       "  'EndingHashKey': '340282366920938463463374607431768211455'},\n",
       " 'SequenceNumberRange': {'StartingSequenceNumber': '49601664250058746018402576470843268827267427573564440610'}}"
      ]
     },
     "execution_count": 4,
     "metadata": {},
     "output_type": "execute_result"
    }
   ],
   "source": [
    "stream_description = kinesis.describe_stream(StreamName = streamName)\n",
    "stream_description.keys()\n",
    "stream_description['StreamDescription']['Shards']\n",
    "stream_description['StreamDescription']['Shards'][0]\n"
   ]
  },
  {
   "cell_type": "code",
   "execution_count": 5,
   "metadata": {},
   "outputs": [
    {
     "data": {
      "text/plain": [
       "[{'ShardId': 'shardId-000000000002',\n",
       "  'ParentShardId': 'shardId-000000000000',\n",
       "  'AdjacentParentShardId': 'shardId-000000000001',\n",
       "  'HashKeyRange': {'StartingHashKey': '0',\n",
       "   'EndingHashKey': '340282366920938463463374607431768211455'},\n",
       "  'SequenceNumberRange': {'StartingSequenceNumber': '49601664250058746018402576470843268827267427573564440610'}}]"
      ]
     },
     "execution_count": 5,
     "metadata": {},
     "output_type": "execute_result"
    }
   ],
   "source": [
    "stream_description['StreamDescription']['Shards']"
   ]
  },
  {
   "cell_type": "markdown",
   "metadata": {},
   "source": [
    "CREATING A PRODUCER\n"
   ]
  },
  {
   "cell_type": "code",
   "execution_count": 6,
   "metadata": {},
   "outputs": [],
   "source": [
    "from datetime import datetime\n",
    "import time\n",
    "import boto3\n",
    "from looper_scraper import scrape_looper\n"
   ]
  },
  {
   "cell_type": "code",
   "execution_count": 7,
   "metadata": {},
   "outputs": [],
   "source": [
    "def get_data(criteria):\n",
    "    data = scrape_looper(1, add_gps=True)  # ignore the argument 1\n",
    "    data = data.head(2) # our assumption; first 2 listings are new\n",
    "    \n",
    "    # we may have some criteria to filter our data on eg \"address='adenta'\"\n",
    "    if criteria:\n",
    "        data = data.query(criteria)\n",
    "    \n",
    "    # for this exercise, we'll only select these columns\n",
    "#     data = data[['description', 'category','beds', 'baths','price','url','area(mxm)','broker','listing_time',\n",
    "#                  'amenities','lat','lon','point_of_interest','point_of_interestcategory','distance_to_point_of_interest']]\n",
    "    \n",
    "    return data"
   ]
  },
  {
   "cell_type": "code",
   "execution_count": 8,
   "metadata": {},
   "outputs": [],
   "source": [
    "def listings_producer(stream_name, data):\n",
    "        response = kinesis.put_record(\n",
    "            StreamName=stream_name,\n",
    "            Data=data,\n",
    "            PartitionKey='blossom',\n",
    "        )\n",
    "        if response['ResponseMetadata']['HTTPStatusCode'] == 200:\n",
    "            print(f\"Records pushed to {stream_name} within kinesis\")\n",
    "        else:\n",
    "            print(\"Records not failed to be pushed to kinesis\")\n"
   ]
  },
  {
   "cell_type": "markdown",
   "metadata": {},
   "source": [
    "We’ll run the scraping and pushing every 30 seconds"
   ]
  },
  {
   "cell_type": "code",
   "execution_count": null,
   "metadata": {},
   "outputs": [
    {
     "name": "stdout",
     "output_type": "stream",
     "text": [
      "Getting page 1 from looperghana\n",
      "Records pushed to blossom-data-eng-emily within kinesis\n",
      "Getting page 1 from looperghana\n",
      "Records pushed to blossom-data-eng-emily within kinesis\n",
      "Getting page 1 from looperghana\n",
      "Records pushed to blossom-data-eng-emily within kinesis\n",
      "Getting page 1 from looperghana\n",
      "Records pushed to blossom-data-eng-emily within kinesis\n",
      "Getting page 1 from looperghana\n",
      "Records pushed to blossom-data-eng-emily within kinesis\n",
      "Getting page 1 from looperghana\n",
      "Records pushed to blossom-data-eng-emily within kinesis\n",
      "Getting page 1 from looperghana\n",
      "Records pushed to blossom-data-eng-emily within kinesis\n",
      "Getting page 1 from looperghana\n",
      "Records pushed to blossom-data-eng-emily within kinesis\n",
      "Getting page 1 from looperghana\n",
      "Records pushed to blossom-data-eng-emily within kinesis\n",
      "Getting page 1 from looperghana\n",
      "Records pushed to blossom-data-eng-emily within kinesis\n",
      "Getting page 1 from looperghana\n",
      "Records pushed to blossom-data-eng-emily within kinesis\n",
      "Getting page 1 from looperghana\n",
      "Records pushed to blossom-data-eng-emily within kinesis\n",
      "Getting page 1 from looperghana\n",
      "Records pushed to blossom-data-eng-emily within kinesis\n",
      "Getting page 1 from looperghana\n",
      "Records pushed to blossom-data-eng-emily within kinesis\n",
      "Getting page 1 from looperghana\n",
      "Records pushed to blossom-data-eng-emily within kinesis\n",
      "Getting page 1 from looperghana\n",
      "Records pushed to blossom-data-eng-emily within kinesis\n",
      "Getting page 1 from looperghana\n",
      "Records pushed to blossom-data-eng-emily within kinesis\n",
      "Getting page 1 from looperghana\n",
      "Records pushed to blossom-data-eng-emily within kinesis\n",
      "Getting page 1 from looperghana\n",
      "Records pushed to blossom-data-eng-emily within kinesis\n",
      "Getting page 1 from looperghana\n",
      "Records pushed to blossom-data-eng-emily within kinesis\n",
      "Getting page 1 from looperghana\n",
      "Records pushed to blossom-data-eng-emily within kinesis\n",
      "Getting page 1 from looperghana\n",
      "Records pushed to blossom-data-eng-emily within kinesis\n",
      "Getting page 1 from looperghana\n",
      "Records pushed to blossom-data-eng-emily within kinesis\n",
      "Getting page 1 from looperghana\n",
      "Records pushed to blossom-data-eng-emily within kinesis\n",
      "Getting page 1 from looperghana\n",
      "Records pushed to blossom-data-eng-emily within kinesis\n",
      "Getting page 1 from looperghana\n",
      "Records pushed to blossom-data-eng-emily within kinesis\n",
      "Getting page 1 from looperghana\n",
      "Records pushed to blossom-data-eng-emily within kinesis\n",
      "Getting page 1 from looperghana\n",
      "Records pushed to blossom-data-eng-emily within kinesis\n",
      "Getting page 1 from looperghana\n",
      "Records pushed to blossom-data-eng-emily within kinesis\n",
      "Getting page 1 from looperghana\n",
      "Records pushed to blossom-data-eng-emily within kinesis\n",
      "Getting page 1 from looperghana\n",
      "Records pushed to blossom-data-eng-emily within kinesis\n",
      "Getting page 1 from looperghana\n",
      "Records pushed to blossom-data-eng-emily within kinesis\n",
      "Getting page 1 from looperghana\n",
      "Records pushed to blossom-data-eng-emily within kinesis\n",
      "Getting page 1 from looperghana\n",
      "Records pushed to blossom-data-eng-emily within kinesis\n",
      "Getting page 1 from looperghana\n",
      "Records pushed to blossom-data-eng-emily within kinesis\n",
      "Getting page 1 from looperghana\n",
      "Records pushed to blossom-data-eng-emily within kinesis\n",
      "Getting page 1 from looperghana\n",
      "Records pushed to blossom-data-eng-emily within kinesis\n",
      "Getting page 1 from looperghana\n",
      "Records pushed to blossom-data-eng-emily within kinesis\n",
      "Getting page 1 from looperghana\n",
      "Records pushed to blossom-data-eng-emily within kinesis\n",
      "Getting page 1 from looperghana\n",
      "Records pushed to blossom-data-eng-emily within kinesis\n",
      "Getting page 1 from looperghana\n",
      "Records pushed to blossom-data-eng-emily within kinesis\n",
      "Getting page 1 from looperghana\n",
      "Records pushed to blossom-data-eng-emily within kinesis\n",
      "Getting page 1 from looperghana\n",
      "Records pushed to blossom-data-eng-emily within kinesis\n",
      "Getting page 1 from looperghana\n",
      "Records pushed to blossom-data-eng-emily within kinesis\n",
      "Getting page 1 from looperghana\n",
      "Records pushed to blossom-data-eng-emily within kinesis\n",
      "Getting page 1 from looperghana\n",
      "Records pushed to blossom-data-eng-emily within kinesis\n",
      "Getting page 1 from looperghana\n",
      "Records pushed to blossom-data-eng-emily within kinesis\n",
      "Getting page 1 from looperghana\n",
      "Records pushed to blossom-data-eng-emily within kinesis\n",
      "Getting page 1 from looperghana\n",
      "Records pushed to blossom-data-eng-emily within kinesis\n",
      "Getting page 1 from looperghana\n",
      "Records pushed to blossom-data-eng-emily within kinesis\n",
      "Getting page 1 from looperghana\n",
      "Records pushed to blossom-data-eng-emily within kinesis\n",
      "Getting page 1 from looperghana\n",
      "Records pushed to blossom-data-eng-emily within kinesis\n",
      "Getting page 1 from looperghana\n",
      "Records pushed to blossom-data-eng-emily within kinesis\n",
      "Getting page 1 from looperghana\n",
      "Records pushed to blossom-data-eng-emily within kinesis\n",
      "Getting page 1 from looperghana\n",
      "Records pushed to blossom-data-eng-emily within kinesis\n",
      "Getting page 1 from looperghana\n",
      "Records pushed to blossom-data-eng-emily within kinesis\n",
      "Getting page 1 from looperghana\n",
      "Records pushed to blossom-data-eng-emily within kinesis\n",
      "Getting page 1 from looperghana\n",
      "Records pushed to blossom-data-eng-emily within kinesis\n",
      "Getting page 1 from looperghana\n",
      "Records pushed to blossom-data-eng-emily within kinesis\n",
      "Getting page 1 from looperghana\n",
      "Records pushed to blossom-data-eng-emily within kinesis\n",
      "Getting page 1 from looperghana\n",
      "Records pushed to blossom-data-eng-emily within kinesis\n",
      "Getting page 1 from looperghana\n",
      "Records pushed to blossom-data-eng-emily within kinesis\n",
      "Getting page 1 from looperghana\n",
      "Records pushed to blossom-data-eng-emily within kinesis\n",
      "Getting page 1 from looperghana\n",
      "Records pushed to blossom-data-eng-emily within kinesis\n",
      "Getting page 1 from looperghana\n",
      "Records pushed to blossom-data-eng-emily within kinesis\n",
      "Getting page 1 from looperghana\n",
      "Records pushed to blossom-data-eng-emily within kinesis\n",
      "Getting page 1 from looperghana\n",
      "Records pushed to blossom-data-eng-emily within kinesis\n",
      "Getting page 1 from looperghana\n",
      "Records pushed to blossom-data-eng-emily within kinesis\n",
      "Getting page 1 from looperghana\n",
      "Records pushed to blossom-data-eng-emily within kinesis\n",
      "Getting page 1 from looperghana\n",
      "Records pushed to blossom-data-eng-emily within kinesis\n",
      "Getting page 1 from looperghana\n",
      "Records pushed to blossom-data-eng-emily within kinesis\n",
      "Getting page 1 from looperghana\n",
      "Records pushed to blossom-data-eng-emily within kinesis\n",
      "Getting page 1 from looperghana\n",
      "Records pushed to blossom-data-eng-emily within kinesis\n",
      "Getting page 1 from looperghana\n",
      "Records pushed to blossom-data-eng-emily within kinesis\n",
      "Getting page 1 from looperghana\n"
     ]
    }
   ],
   "source": [
    "if __name__ == '__main__':\n",
    "    try:\n",
    "        while True:\n",
    "            data = get_data(None)\n",
    "            data = data.to_json()\n",
    "            listings_producer(streamName, data)\n",
    "            time.sleep(10)\n",
    "            \n",
    "    except Exception as e:\n",
    "        print(f\"Writing failed. Exiting gracefully due to {e}\")"
   ]
  },
  {
   "cell_type": "code",
   "execution_count": null,
   "metadata": {},
   "outputs": [],
   "source": []
  },
  {
   "cell_type": "code",
   "execution_count": null,
   "metadata": {},
   "outputs": [],
   "source": []
  }
 ],
 "metadata": {
  "kernelspec": {
   "display_name": "Python 3",
   "language": "python",
   "name": "python3"
  },
  "language_info": {
   "codemirror_mode": {
    "name": "ipython",
    "version": 3
   },
   "file_extension": ".py",
   "mimetype": "text/x-python",
   "name": "python",
   "nbconvert_exporter": "python",
   "pygments_lexer": "ipython3",
   "version": "3.7.3"
  }
 },
 "nbformat": 4,
 "nbformat_minor": 2
}
